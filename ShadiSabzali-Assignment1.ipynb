{
 "cells": [
  {
   "cell_type": "markdown",
   "id": "1d180b06-0a76-4907-8125-28b894a52928",
   "metadata": {},
   "source": [
    "# Assignment 1"
   ]
  },
  {
   "cell_type": "markdown",
   "id": "e1998b1f-ae88-480f-9308-33b8de0a9ee8",
   "metadata": {},
   "source": [
    "**Task (i)**    \n",
    "Date: 28.01.2025"
   ]
  },
  {
   "cell_type": "markdown",
   "id": "6ae3fc8d-b953-4a92-8442-44a4822c7d88",
   "metadata": {},
   "source": [
    "## **SHADI (ELSA) SABZALI**"
   ]
  },
  {
   "cell_type": "markdown",
   "id": "9aead5b4-beb8-4bce-8f81-7eb74b3021b9",
   "metadata": {},
   "source": [
    "A bullet list of most commonly used programing languages:\n",
    "- Python\n",
    "- Java\n",
    "- C#"
   ]
  },
  {
   "cell_type": "markdown",
   "id": "e8213bb3-dcf3-4b73-994b-0de0c7950365",
   "metadata": {},
   "source": [
    "\n",
    "| intermediate devices      | end devices | end devices |\n",
    "| --------------------------| ----------- |-------------|\n",
    "| LAN     Swithch           | Laptop      | LAN media   |\n",
    "| Router                    | Printer     | WAN media   |"
   ]
  },
  {
   "cell_type": "markdown",
   "id": "b487591e-956d-4fd7-80ca-2120b25e84bf",
   "metadata": {},
   "source": [
    "**Task (ii)**"
   ]
  },
  {
   "cell_type": "code",
   "execution_count": 4,
   "id": "63947b68-7f96-4b65-9437-bb044e1660e4",
   "metadata": {},
   "outputs": [
    {
     "name": "stdout",
     "output_type": "stream",
     "text": [
      "My name is Shadi Sabzali and you can call me: ELSA \n"
     ]
    }
   ],
   "source": [
    "print (\"My name is Shadi Sabzali and you can call me: ELSA \");"
   ]
  },
  {
   "cell_type": "code",
   "execution_count": 7,
   "id": "5d8c73df-8973-4dfb-8cf4-74f1ad2eb082",
   "metadata": {},
   "outputs": [
    {
     "name": "stdin",
     "output_type": "stream",
     "text": [
      "Tell me your name:  Elsa\n"
     ]
    },
    {
     "name": "stdout",
     "output_type": "stream",
     "text": [
      "Hello Elsa!\n"
     ]
    }
   ],
   "source": [
    "print (\"Hello \" + input(\"Tell me your name: \") + \"!\");"
   ]
  },
  {
   "cell_type": "code",
   "execution_count": 18,
   "id": "f45a723a-61f0-49a9-a086-df9ac001d60f",
   "metadata": {},
   "outputs": [
    {
     "name": "stdin",
     "output_type": "stream",
     "text": [
      "Give me a number: 3\n",
      "Give me another number: 2\n"
     ]
    },
    {
     "name": "stdout",
     "output_type": "stream",
     "text": [
      "5\n"
     ]
    }
   ],
   "source": [
    "print (\"the sum int(input (\"Give me a number:\"))+int(input (\"Give me another number:\")));"
   ]
  },
  {
   "cell_type": "code",
   "execution_count": null,
   "id": "d2bc5690-e085-4725-ac07-788d7d829e96",
   "metadata": {},
   "outputs": [],
   "source": []
  }
 ],
 "metadata": {
  "kernelspec": {
   "display_name": "Python 3 (ipykernel)",
   "language": "python",
   "name": "python3"
  },
  "language_info": {
   "codemirror_mode": {
    "name": "ipython",
    "version": 3
   },
   "file_extension": ".py",
   "mimetype": "text/x-python",
   "name": "python",
   "nbconvert_exporter": "python",
   "pygments_lexer": "ipython3",
   "version": "3.12.7"
  }
 },
 "nbformat": 4,
 "nbformat_minor": 5
}
