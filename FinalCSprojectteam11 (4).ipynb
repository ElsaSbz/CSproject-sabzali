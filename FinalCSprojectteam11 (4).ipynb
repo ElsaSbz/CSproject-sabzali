{
 "cells": [
  {
   "cell_type": "markdown",
   "id": "7759fcc9-7242-4458-9007-5ca832b1a4c3",
   "metadata": {},
   "source": [
    "<h1>Group 11 Project</h1>\n",
    "\n",
    "**Members :**\n",
    "\n",
    "\n",
    "1. Kapugedara Harshani Nirmala Kumari Abesinghe\n",
    "2. Shadi Sabzali\n",
    "3. Rivini Chethya Yakupitiyage\n",
    "4. Samudra Sandamali Bandara Herath Mudiyanselage\n",
    "5. Shanki Chaminda Sumanarathna Aaryachakra Bandaranayaka Thewanga Mudiyanselage\n",
    "6. Zahra Sadeghi Jalalabadi"
   ]
  },
  {
   "cell_type": "markdown",
   "id": "c37182a2-c86f-44fa-b60f-d8663f34a714",
   "metadata": {},
   "source": [
    "GIT LINK: https://github.com/ElsaSbz/CSproject-sabzali\n"
   ]
  },
  {
   "cell_type": "markdown",
   "id": "0250c941-ea6d-4b26-9c8c-0db6cabc8b51",
   "metadata": {},
   "source": [
    "**Convertor**\n",
    "\n",
    "\n",
    "Create a program that can be used to converttemperature, length, weight, pressure.\n",
    "\n",
    "Your program should have a menu displayed for the user to choose from, where are listed the convertion options:\n",
    "\n",
    "-temperature \n",
    "fahrenheit to celsius\n",
    "celsius to fahrenheit \n",
    "\n",
    "-length\n",
    "miles to km km to miles\n",
    "\n",
    "-weight\n",
    "pound to kilogramms \n",
    "kg to poundexit\n",
    "\n",
    "\n",
    "\n",
    "The program should allow the user to choose the desired convertion over and over again until user chooses to quit using it.\n"
   ]
  },
  {
   "cell_type": "markdown",
   "id": "3da2a6f2-a99a-4da1-8516-74712e6a1e2d",
   "metadata": {},
   "source": [
    "**UI packages importing section:**"
   ]
  },
  {
   "cell_type": "code",
   "execution_count": 5,
   "id": "816ae771-f9ef-49cb-af36-85ee5ea87dea",
   "metadata": {},
   "outputs": [],
   "source": [
    "import ipywidgets as widgets\n",
    "from IPython.display import display, clear_output\n"
   ]
  },
  {
   "cell_type": "markdown",
   "id": "28d1cba2-e5a9-45a6-b22b-56266a593228",
   "metadata": {},
   "source": [
    "**functions**"
   ]
  },
  {
   "cell_type": "code",
   "execution_count": 7,
   "id": "46e7e0b8-cc04-4880-9bee-6e74b958de3e",
   "metadata": {},
   "outputs": [],
   "source": [
    "# Temperature conversion functions\n",
    "def fahrenheit_to_celsius(f):\n",
    "    return (f - 32) * 5/9\n",
    "\n",
    "def celsius_to_fahrenheit(c):\n",
    "    return (c * 9/5) + 32\n",
    "\n",
    "# Length conversion functions\n",
    "def miles_to_km(miles):\n",
    "    if miles >= 0:\n",
    "        return miles * 1.60934       \n",
    "    else :\n",
    "        return -999\n",
    "    \n",
    "\n",
    "def km_to_miles(km):\n",
    "    if km>=0:\n",
    "        return km / 1.60934\n",
    "    else :\n",
    "        return -999\n",
    "\n",
    "# Weight conversion functions\n",
    "def pounds_to_kg(pounds):\n",
    "    if pounds >= 0:\n",
    "        return pounds * 0.453592\n",
    "    else :\n",
    "        return -999\n",
    "\n",
    "def kg_to_pounds(kg):\n",
    "    if kg>=0:\n",
    "        return kg / 0.453592\n",
    "    else :\n",
    "        return -999\n",
    "\n",
    "# Pressure conversion functions\n",
    "def pascal_to_bar(pa):\n",
    "    return pa / 100000\n",
    "\n",
    "def bar_to_pascal(bar):\n",
    "    return bar * 100000\n"
   ]
  },
  {
   "cell_type": "markdown",
   "id": "2bd8a72f-394f-4522-93c5-66b8c6f86fb4",
   "metadata": {},
   "source": [
    "**UI**"
   ]
  },
  {
   "cell_type": "code",
   "execution_count": 9,
   "id": "1deb4b6e-de3f-4eaf-bcd5-2edf9a04a778",
   "metadata": {},
   "outputs": [],
   "source": [
    "# UI elements\n",
    "conversion_type = widgets.Dropdown(\n",
    "    options=['Choose','Temperature', 'Length', 'Weight', 'Pressure'],\n",
    "    description='Conversion Type:',\n",
    ")\n",
    "\n",
    "input_value = widgets.FloatText(\n",
    "    description='Input Value:',\n",
    "    value=0\n",
    ")\n",
    "\n",
    "input_unit = widgets.Dropdown(\n",
    "    options=[],\n",
    "    description='Input Unit:',\n",
    ")\n",
    "\n",
    "output_value = widgets.FloatText(\n",
    "    description='Output Value:',\n",
    "    value=0,\n",
    "    disabled=True\n",
    ")"
   ]
  },
  {
   "cell_type": "markdown",
   "id": "7decc042-58d5-4f2f-a6f6-4ae69d3c7fce",
   "metadata": {},
   "source": [
    "**Convertor with UI interaction**"
   ]
  },
  {
   "cell_type": "code",
   "execution_count": 11,
   "id": "3e64d6ab-a158-4b59-9821-5566b4e92c12",
   "metadata": {},
   "outputs": [
    {
     "data": {
      "application/vnd.jupyter.widget-view+json": {
       "model_id": "c7187b417d234309a03b5a5c70fc2474",
       "version_major": 2,
       "version_minor": 0
      },
      "text/plain": [
       "Dropdown(description='Conversion Type:', options=('Choose', 'Temperature', 'Length', 'Weight', 'Pressure'), va…"
      ]
     },
     "metadata": {},
     "output_type": "display_data"
    },
    {
     "data": {
      "application/vnd.jupyter.widget-view+json": {
       "model_id": "7320207b74ee47ca8287014f0d97cb7b",
       "version_major": 2,
       "version_minor": 0
      },
      "text/plain": [
       "Dropdown(description='Input Unit:', options=(), value=None)"
      ]
     },
     "metadata": {},
     "output_type": "display_data"
    },
    {
     "data": {
      "application/vnd.jupyter.widget-view+json": {
       "model_id": "295178c79109451083663679e9e5d166",
       "version_major": 2,
       "version_minor": 0
      },
      "text/plain": [
       "FloatText(value=0.0, description='Input Value:')"
      ]
     },
     "metadata": {},
     "output_type": "display_data"
    },
    {
     "data": {
      "application/vnd.jupyter.widget-view+json": {
       "model_id": "76fde8323845440c91fbd0021e0eb620",
       "version_major": 2,
       "version_minor": 0
      },
      "text/plain": [
       "Button(description='Convert', style=ButtonStyle())"
      ]
     },
     "metadata": {},
     "output_type": "display_data"
    },
    {
     "data": {
      "application/vnd.jupyter.widget-view+json": {
       "model_id": "5c88540d7c2d46c69eb35288e32d37d5",
       "version_major": 2,
       "version_minor": 0
      },
      "text/plain": [
       "FloatText(value=0.0, description='Output Value:', disabled=True)"
      ]
     },
     "metadata": {},
     "output_type": "display_data"
    },
    {
     "data": {
      "application/vnd.jupyter.widget-view+json": {
       "model_id": "5ffb20094ff34d89bc12f242c75a04be",
       "version_major": 2,
       "version_minor": 0
      },
      "text/plain": [
       "Output()"
      ]
     },
     "metadata": {},
     "output_type": "display_data"
    }
   ],
   "source": [
    "\n",
    "#check the conversion updates\n",
    "def update_units(change):\n",
    "    if conversion_type.value == 'Temperature':\n",
    "        input_unit.options = ['Fahrenheit', 'Celsius']\n",
    "    elif conversion_type.value == 'Length':\n",
    "        input_unit.options = ['Miles', 'Kilometers']\n",
    "    elif conversion_type.value == 'Weight':\n",
    "        input_unit.options = ['Pounds', 'Kilograms']\n",
    "    elif conversion_type.value == 'Pressure':\n",
    "        input_unit.options = ['Pascal', 'Bar']\n",
    "\n",
    "#Select Conversion formula by changing units\n",
    "def convert(change):\n",
    "    if conversion_type.value == 'Temperature':\n",
    "        if input_unit.value == 'Fahrenheit':\n",
    "            output_value.value = fahrenheit_to_celsius(input_value.value)\n",
    "        else:\n",
    "            output_value.value = celsius_to_fahrenheit(input_value.value)\n",
    "    elif conversion_type.value == 'Length':\n",
    "        if input_unit.value == 'Miles':\n",
    "            output_value.value = miles_to_km(input_value.value)\n",
    "        else:\n",
    "            output_value.value = km_to_miles(input_value.value)\n",
    "    elif conversion_type.value == 'Weight':\n",
    "        if input_unit.value == 'Pounds':\n",
    "            output_value.value = pounds_to_kg(input_value.value)\n",
    "        else:\n",
    "            output_value.value = kg_to_pounds(input_value.value)\n",
    "    elif conversion_type.value == 'Pressure':\n",
    "        if input_unit.value == 'Pascal':\n",
    "            output_value.value = pascal_to_bar(input_value.value)\n",
    "        else:\n",
    "            output_value.value = bar_to_pascal(input_value.value)\n",
    "\n",
    "# Button to trigger conversion\n",
    "convert_button = widgets.Button(\n",
    "    description='Convert'\n",
    ")\n",
    "\n",
    "# Display the output\n",
    "output_area = widgets.Output()\n",
    "\n",
    "# Link functions to events\n",
    "conversion_type.observe(update_units, names='value')\n",
    "convert_button.on_click(convert)\n",
    "\n",
    "# Display the UI components\n",
    "display(conversion_type, input_unit, input_value, convert_button, output_value, output_area)"
   ]
  },
  {
   "cell_type": "code",
   "execution_count": null,
   "id": "947c5c28-f148-4202-921d-9c158df8bd17",
   "metadata": {},
   "outputs": [],
   "source": []
  }
 ],
 "metadata": {
  "kernelspec": {
   "display_name": "anaconda-ai-2024.04-py310",
   "language": "python",
   "name": "conda-env-anaconda-ai-2024.04-py310-py"
  },
  "language_info": {
   "codemirror_mode": {
    "name": "ipython",
    "version": 3
   },
   "file_extension": ".py",
   "mimetype": "text/x-python",
   "name": "python",
   "nbconvert_exporter": "python",
   "pygments_lexer": "ipython3",
   "version": "3.10.13"
  }
 },
 "nbformat": 4,
 "nbformat_minor": 5
}
